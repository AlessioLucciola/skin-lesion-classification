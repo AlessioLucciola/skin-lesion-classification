{
 "cells": [
  {
   "cell_type": "code",
   "execution_count": 1,
   "metadata": {},
   "outputs": [
    {
     "data": {
      "text/plain": [
       "<module 'dataloaders' from '/Users/dov/Library/Mobile Documents/com~apple~CloudDocs/dovsync/Documenti Universita/Advanced Machine Learning/AML Project.nosync/melanoma-detection/dataloaders.py'>"
      ]
     },
     "execution_count": 1,
     "metadata": {},
     "output_type": "execute_result"
    }
   ],
   "source": [
    "import torch\n",
    "import torch.nn as nn\n",
    "import torchvision\n",
    "import torchvision.transforms as transforms\n",
    "import torchvision.models as models\n",
    "import numpy as np\n",
    "import matplotlib.pyplot as plt\n",
    "import random\n",
    "import os\n",
    "import wandb\n",
    "from config import BATCH_SIZE\n",
    "\n",
    "import dataloaders\n",
    "import utils\n",
    "from importlib import reload\n",
    "import config\n",
    "reload(config)\n",
    "reload(utils)\n",
    "reload(dataloaders)"
   ]
  },
  {
   "cell_type": "code",
   "execution_count": 2,
   "metadata": {},
   "outputs": [],
   "source": [
    "# Configurations\n",
    "INPUT_SIZE = 3\n",
    "NUM_CLASSES = 7\n",
    "HIDDEN_SIZE = [32, 64, 128, 256]\n",
    "N_EPOCHS = 10\n",
    "LR = 1e-3\n",
    "LR_DECAY = 0.85\n",
    "REG = 0.01\n",
    "SEGMENT = True\n",
    "CROP_ROI = True\n",
    "ARCHITECHTURE = \"resnet24\"\n",
    "DATASET_LIMIT = None\n",
    "\n",
    "if CROP_ROI:\n",
    "    assert SEGMENT, f\"Crop roi needs segment to be True\""
   ]
  },
  {
   "cell_type": "code",
   "execution_count": 4,
   "metadata": {},
   "outputs": [],
   "source": [
    "# Weight initilization\n",
    "def update_lr(optimizer, lr):\n",
    "    for param_group in optimizer.param_groups:\n",
    "        param_group['lr'] = lr"
   ]
  },
  {
   "cell_type": "code",
   "execution_count": 5,
   "metadata": {},
   "outputs": [
    {
     "name": "stdout",
     "output_type": "stream",
     "text": [
      "Random seed set as 42\n"
     ]
    }
   ],
   "source": [
    "RANDOM_SEED = 42 \n",
    "\n",
    "def set_seed(seed):\n",
    "    np.random.seed(seed)\n",
    "    random.seed(seed)\n",
    "    torch.manual_seed(seed)\n",
    "    torch.cuda.manual_seed(seed)\n",
    "    # When running on the CuDNN backend, two further options must be set\n",
    "    torch.backends.cudnn.deterministic = True\n",
    "    torch.backends.cudnn.benchmark = False\n",
    "    # Set a fixed value for the hash seed\n",
    "    os.environ[\"PYTHONHASHSEED\"] = str(seed)\n",
    "    print(f\"Random seed set as {seed}\")\n",
    "\n",
    "set_seed(RANDOM_SEED)"
   ]
  },
  {
   "cell_type": "code",
   "execution_count": 6,
   "metadata": {},
   "outputs": [
    {
     "name": "stdout",
     "output_type": "stream",
     "text": [
      "Using device: mps\n"
     ]
    }
   ],
   "source": [
    "# Device configuration\n",
    "# device = torch.device('cuda' if torch.cuda.is_available() else 'cpu')\n",
    "device = torch.device(\"mps\")\n",
    "print('Using device: %s'%device)"
   ]
  },
  {
   "cell_type": "code",
   "execution_count": 7,
   "metadata": {},
   "outputs": [
    {
     "name": "stdout",
     "output_type": "stream",
     "text": [
      "------Check distribution-----\n",
      "Labels percentages for train are [('akiec', 0.03), ('bcc', 0.05), ('bkl', 0.11), ('df', 0.01), ('mel', 0.11), ('nv', 0.67), ('vasc', 0.01)]\n",
      "Labels percentages for val are [('akiec', 0.03), ('bcc', 0.05), ('bkl', 0.11), ('df', 0.01), ('mel', 0.11), ('nv', 0.67), ('vasc', 0.01)]\n",
      "Labels percentages for test are [('akiec', 0.03), ('bcc', 0.06), ('bkl', 0.14), ('df', 0.03), ('mel', 0.11), ('nv', 0.6), ('vasc', 0.02)]\n",
      "-----------------------------\n",
      "Max count is 5364, while second max count is 890\n",
      "Max labels to remove is 2682\n"
     ]
    },
    {
     "name": "stderr",
     "output_type": "stream",
     "text": [
      "Loading train images: 5781it [00:52, 134.56it/s]"
     ]
    }
   ],
   "source": [
    "# Load the dataset\n",
    "train_loader, val_loader, test_loader = dataloaders.create_dataloaders(\n",
    "    limit=DATASET_LIMIT)"
   ]
  },
  {
   "cell_type": "code",
   "execution_count": null,
   "metadata": {},
   "outputs": [],
   "source": [
    "# # Note: Code to visualize data. To remove or modify. Stop this cell manually!\n",
    "# for (batch, labels, segmentations) in train_loader:\n",
    "#         masked_image = torch.mul(batch, segmentations)\n",
    "#         masked_image = masked_image.to(device)\n",
    "\n",
    "#         num_images = masked_image.shape[0]\n",
    "#         rows = 4\n",
    "#         cols = 8\n",
    "\n",
    "#         fig, axes = plt.subplots(rows, cols, figsize=(20, 20))\n",
    "\n",
    "#         for i in range(rows):\n",
    "#             for j in range(cols):\n",
    "#                 if i * cols + j < num_images:\n",
    "#                     axes[i, j].imshow(np.transpose(masked_image[i * cols + j], (1, 2, 0)))\n",
    "#                     axes[i, j].axis('off')\n",
    "\n",
    "#         plt.show()"
   ]
  },
  {
   "cell_type": "code",
   "execution_count": null,
   "metadata": {},
   "outputs": [],
   "source": [
    "class ResNet24Pretrained(nn.Module):\n",
    "    def __init__(self, input_size, hidden_layers, num_classes, norm_layer=None):\n",
    "        super(ResNet24Pretrained, self).__init__()\n",
    "        self.model = models.resnet34(pretrained=True)\n",
    "        self.classifier = nn.Sequential(\n",
    "            nn.Dropout(p=0.1),\n",
    "            nn.Linear(self.model.fc.in_features, 256, bias=False),\n",
    "            nn.ReLU(),\n",
    "            nn.BatchNorm1d(256),\n",
    "\n",
    "            nn.Linear(256, 128, bias=False),\n",
    "            nn.ReLU(),\n",
    "            nn.BatchNorm1d(128),\n",
    "\n",
    "            nn.Linear(128, num_classes, bias=False),\n",
    "            nn.BatchNorm1d(num_classes),\n",
    "        )\n",
    "        self.model.fc = self.classifier\n",
    "\n",
    "        model_parameters = filter(lambda p: p.requires_grad, self.model.parameters())\n",
    "        params = sum([np.prod(p.size()) for p in model_parameters])\n",
    "        print(f'Model has {params} trainable params.')\n",
    "    \n",
    "    def forward(self, x):\n",
    "        return self.model(x)\n",
    "    \n",
    "    def initialize_weights(self):\n",
    "        for m in self.modules():\n",
    "            if isinstance(m, nn.Linear):\n",
    "                nn.init.kaiming_normal_(m.weight, mode='fan_out', nonlinearity='relu')\n",
    "                if m.bias:\n",
    "                    nn.init.constant_(m.bias, 0)\n",
    "            elif isinstance(m, nn.BatchNorm1d):\n",
    "                nn.init.constant_(m.weight, 1)\n",
    "                nn.init.constant_(m.bias, 0)"
   ]
  },
  {
   "cell_type": "code",
   "execution_count": null,
   "metadata": {},
   "outputs": [],
   "source": [
    "class DenseNetPretrained(nn.Module):\n",
    "    def __init__(self, input_size, hidden_layers, num_classes, norm_layer=None):\n",
    "        super(DenseNetPretrained, self).__init__()\n",
    "        self.model = models.densenet121(pretrained=True)\n",
    "            \n",
    "        self.classifier = nn.Sequential(\n",
    "            nn.Dropout(p=0.1),\n",
    "        \n",
    "            nn.Linear(self.model.classifier.in_features, 256, bias=False), \n",
    "            nn.ReLU(),\n",
    "            nn.BatchNorm1d(256),\n",
    "\n",
    "            nn.Linear(256, 128, bias=False),\n",
    "            nn.ReLU(),\n",
    "            nn.BatchNorm1d(128),\n",
    "\n",
    "            nn.Linear(128, num_classes, bias=False),\n",
    "            nn.BatchNorm1d(num_classes), \n",
    "        )\n",
    "            \n",
    "        self.model.classifier = self.classifier\n",
    "\n",
    "        model_parameters = filter(lambda p: p.requires_grad, self.model.parameters())\n",
    "        params = sum([np.prod(p.size()) for p in model_parameters])\n",
    "        print(f'Model has {params} trainable params.')\n",
    "    \n",
    "    def forward(self, x):\n",
    "        return self.model(x)\n",
    "    \n",
    "    def initialize_weights(self):\n",
    "        for m in self.modules():\n",
    "            if isinstance(m, nn.Linear):\n",
    "                nn.init.kaiming_normal_(m.weight, mode='fan_out', nonlinearity='relu')\n",
    "                if m.bias:\n",
    "                    nn.init.constant_(m.bias, 0)\n",
    "            elif isinstance(m, nn.BatchNorm1d):\n",
    "                nn.init.constant_(m.weight, 1)\n",
    "                nn.init.constant_(m.bias, 0)"
   ]
  },
  {
   "cell_type": "code",
   "execution_count": null,
   "metadata": {},
   "outputs": [],
   "source": [
    "# Start a new run \n",
    "wandb.init(\n",
    "    project=\"melanoma\",\n",
    "\n",
    "    # track hyperparameters and run metadata\n",
    "    config={\n",
    "        \"learning_rate\": LR,\n",
    "        \"architecture\": ARCHITECHTURE,\n",
    "        \"epochs\": N_EPOCHS,\n",
    "        'reg': REG,\n",
    "        'batch_size': BATCH_SIZE,\n",
    "        \"hidden_size\": HIDDEN_SIZE,\n",
    "        \"dataset\": \"HAM10K\",\n",
    "        \"optimizer\": \"AdamW\",\n",
    "        \"segmentation\": SEGMENT,\n",
    "        \"crop_roi\": CROP_ROI,\n",
    "        \"dataset_limit\": DATASET_LIMIT,\n",
    "    }\n",
    ")"
   ]
  },
  {
   "cell_type": "code",
   "execution_count": null,
   "metadata": {},
   "outputs": [
    {
     "name": "stderr",
     "output_type": "stream",
     "text": [
      "/Users/dov/miniconda3/envs/aml_project/lib/python3.10/site-packages/torchvision/models/_utils.py:208: UserWarning: The parameter 'pretrained' is deprecated since 0.13 and may be removed in the future, please use 'weights' instead.\n",
      "  warnings.warn(\n",
      "/Users/dov/miniconda3/envs/aml_project/lib/python3.10/site-packages/torchvision/models/_utils.py:223: UserWarning: Arguments other than a weight enum or `None` for 'weights' are deprecated since 0.13 and may be removed in the future. The current behavior is equivalent to passing `weights=ResNet34_Weights.IMAGENET1K_V1`. You can also use `weights=ResNet34_Weights.DEFAULT` to get the most up-to-date weights.\n",
      "  warnings.warn(msg)\n"
     ]
    },
    {
     "name": "stdout",
     "output_type": "stream",
     "text": [
      "Model has 21450190 trainable params.\n",
      "model.fc.1.weight\n",
      "model.fc.3.weight\n",
      "model.fc.3.bias\n",
      "model.fc.4.weight\n",
      "model.fc.6.weight\n",
      "model.fc.6.bias\n",
      "model.fc.7.weight\n",
      "model.fc.8.weight\n",
      "model.fc.8.bias\n"
     ]
    }
   ],
   "source": [
    "if ARCHITECHTURE == \"resnet24\":\n",
    "    model = ResNet24Pretrained(INPUT_SIZE, HIDDEN_SIZE, NUM_CLASSES, norm_layer='BN').to(device)\n",
    "elif ARCHITECHTURE == \"densenet121\":\n",
    "    model = DenseNetPretrained(INPUT_SIZE, HIDDEN_SIZE, NUM_CLASSES, norm_layer='BN').to(device)\n",
    "else:\n",
    "    raise ValueError(f\"Unknown architechture {ARCHITECHTURE}\")\n",
    "\n",
    "# Freezing pretrained CNN backbone for classifier head fine tuning\n",
    "\n",
    "for p in model.parameters():\n",
    "    p.requires_grad=False\n",
    "\n",
    "# LAYERS_TO_FINE_TUNE = 20\n",
    "# parameters = list(model.parameters())\n",
    "# for p in parameters[-LAYERS_TO_FINE_TUNE:]:\n",
    "#     p.requires_grad=True\n",
    "    \n",
    "for p in model.classifier.parameters():\n",
    "    p.requires_grad=True\n",
    "\n",
    "\n",
    "for name, param in model.named_parameters():\n",
    "    if param.requires_grad:\n",
    "        print(name)"
   ]
  },
  {
   "cell_type": "code",
   "execution_count": null,
   "metadata": {},
   "outputs": [],
   "source": [
    "loss_function = nn.CrossEntropyLoss()\n",
    "optimizer = torch.optim.AdamW(model.parameters(), lr=LR, weight_decay=REG)\n",
    "scheduler = torch.optim.lr_scheduler.ReduceLROnPlateau(optimizer, mode='max', factor=0.1, patience=3, threshold=0.0001, threshold_mode='rel', cooldown=0, min_lr=0, eps=1e-08, verbose=True)"
   ]
  },
  {
   "cell_type": "code",
   "execution_count": null,
   "metadata": {},
   "outputs": [],
   "source": [
    "# for batch_idx, (images, labels, _) in enumerate(train_loader):\n",
    "#     # Print the size of each image in the batch\n",
    "#     print(f\"Batch {batch_idx + 1}, Image size: {images.size()}\")"
   ]
  },
  {
   "cell_type": "code",
   "execution_count": null,
   "metadata": {},
   "outputs": [
    {
     "name": "stdout",
     "output_type": "stream",
     "text": [
      "Model has 21450190 trainable params.\n"
     ]
    },
    {
     "data": {
      "application/vnd.jupyter.widget-view+json": {
       "model_id": "a24d637ac57747e3b7b515eccaf68466",
       "version_major": 2,
       "version_minor": 0
      },
      "text/plain": [
       "Training:   0%|          | 0/294 [00:00<?, ?it/s]"
      ]
     },
     "metadata": {},
     "output_type": "display_data"
    },
    {
     "name": "stdout",
     "output_type": "stream",
     "text": [
      "Training -> Epoch [1/10], Step [294/294], Loss: 0.8630, Accuracy: 65.2498%\n",
      "Validation -> Validation accuracy for epoch 1 is: 57.7134%\n",
      "Validation -> Validation loss for epoch 1 is: 1.5916\n"
     ]
    },
    {
     "data": {
      "application/vnd.jupyter.widget-view+json": {
       "model_id": "f6037641698d40b58c83d8cc4ab24ac4",
       "version_major": 2,
       "version_minor": 0
      },
      "text/plain": [
       "Training:   0%|          | 0/294 [00:00<?, ?it/s]"
      ]
     },
     "metadata": {},
     "output_type": "display_data"
    },
    {
     "ename": "KeyboardInterrupt",
     "evalue": "",
     "output_type": "error",
     "traceback": [
      "\u001b[0;31m---------------------------------------------------------------------------\u001b[0m",
      "\u001b[0;31mKeyboardInterrupt\u001b[0m                         Traceback (most recent call last)",
      "\u001b[1;32m/Users/dov/Library/Mobile Documents/com~apple~CloudDocs/dovsync/Documenti Universita/Advanced Machine Learning/AML Project.nosync/melanoma-detection/CNN pretrained.ipynb Cell 14\u001b[0m line \u001b[0;36m2\n\u001b[1;32m     <a href='vscode-notebook-cell:/Users/dov/Library/Mobile%20Documents/com~apple~CloudDocs/dovsync/Documenti%20Universita/Advanced%20Machine%20Learning/AML%20Project.nosync/melanoma-detection/CNN%20pretrained.ipynb#Y134sZmlsZQ%3D%3D?line=20'>21</a>\u001b[0m tr_outputs \u001b[39m=\u001b[39m model(tr_images) \u001b[39m#Prediction\u001b[39;00m\n\u001b[1;32m     <a href='vscode-notebook-cell:/Users/dov/Library/Mobile%20Documents/com~apple~CloudDocs/dovsync/Documenti%20Universita/Advanced%20Machine%20Learning/AML%20Project.nosync/melanoma-detection/CNN%20pretrained.ipynb#Y134sZmlsZQ%3D%3D?line=21'>22</a>\u001b[0m tr_loss \u001b[39m=\u001b[39m loss_function(tr_outputs, tr_labels)\n\u001b[0;32m---> <a href='vscode-notebook-cell:/Users/dov/Library/Mobile%20Documents/com~apple~CloudDocs/dovsync/Documenti%20Universita/Advanced%20Machine%20Learning/AML%20Project.nosync/melanoma-detection/CNN%20pretrained.ipynb#Y134sZmlsZQ%3D%3D?line=22'>23</a>\u001b[0m wandb\u001b[39m.\u001b[39mlog({\u001b[39m\"\u001b[39m\u001b[39mTraining Loss\u001b[39m\u001b[39m\"\u001b[39m: tr_loss\u001b[39m.\u001b[39;49mitem()})\n\u001b[1;32m     <a href='vscode-notebook-cell:/Users/dov/Library/Mobile%20Documents/com~apple~CloudDocs/dovsync/Documenti%20Universita/Advanced%20Machine%20Learning/AML%20Project.nosync/melanoma-detection/CNN%20pretrained.ipynb#Y134sZmlsZQ%3D%3D?line=24'>25</a>\u001b[0m optimizer\u001b[39m.\u001b[39mzero_grad()\n\u001b[1;32m     <a href='vscode-notebook-cell:/Users/dov/Library/Mobile%20Documents/com~apple~CloudDocs/dovsync/Documenti%20Universita/Advanced%20Machine%20Learning/AML%20Project.nosync/melanoma-detection/CNN%20pretrained.ipynb#Y134sZmlsZQ%3D%3D?line=25'>26</a>\u001b[0m tr_loss\u001b[39m.\u001b[39mbackward()\n",
      "\u001b[0;31mKeyboardInterrupt\u001b[0m: "
     ]
    }
   ],
   "source": [
    "from tqdm.notebook import tqdm\n",
    "total_step = len(train_loader)\n",
    "train_losses = []\n",
    "val_losses = []\n",
    "best_accuracy = None\n",
    "val_accuracies = []\n",
    "best_model = type(model)(INPUT_SIZE, HIDDEN_SIZE, NUM_CLASSES, norm_layer='BN') # get a new instance\n",
    "for epoch in range(N_EPOCHS):\n",
    "    model.train()\n",
    "    tr_loss_iter = 0\n",
    "    training_count = 0\n",
    "    training_correct_preds = 0\n",
    "    for tr_i, (tr_images, tr_labels, segmentations) in enumerate(tqdm(train_loader, desc=\"Training\", leave=False)):\n",
    "        if SEGMENT:\n",
    "            tr_images = torch.mul(tr_images, segmentations) #Apply segmentation\n",
    "            if CROP_ROI:\n",
    "                tr_images = utils.crop_roi(tr_images)\n",
    "        tr_images = tr_images.to(device)\n",
    "        tr_labels = tr_labels.to(device)\n",
    "\n",
    "        tr_outputs = model(tr_images) #Prediction\n",
    "        tr_loss = loss_function(tr_outputs, tr_labels)\n",
    "        wandb.log({\"Training Loss\": tr_loss.item()})\n",
    "\n",
    "        optimizer.zero_grad()\n",
    "        tr_loss.backward()\n",
    "        optimizer.step()\n",
    "\n",
    "        with torch.no_grad():\n",
    "            training_preds = torch.argmax(tr_outputs, -1).detach()\n",
    "            training_count += len(tr_labels)\n",
    "            training_correct_preds += (training_preds == tr_labels).sum()\n",
    "\n",
    "        tr_loss_iter += tr_loss.item()\n",
    "\n",
    "    \n",
    "    current_train_accuracy = 100 * (training_correct_preds/training_count)\n",
    "    wandb.log({\"Training Accuracy\": current_train_accuracy})\n",
    "    print ('Training -> Epoch [{}/{}], Step [{}/{}], Loss: {:.4f}, Accuracy: {:.4f}%'\n",
    "            .format(epoch+1, N_EPOCHS, tr_i+1, total_step, tr_loss.item(), current_train_accuracy))\n",
    "            \n",
    "    train_losses.append(tr_loss_iter/(len(train_loader)*BATCH_SIZE))\n",
    "\n",
    "    #LR *= LR_DECAY\n",
    "    #update_lr(optimizer, LR)\n",
    "\n",
    "    model.eval()\n",
    "    with torch.no_grad():\n",
    "        validation_correct_preds = 0\n",
    "        validation_count = 0\n",
    "        val_loss_iter = 0\n",
    "        for val_i, (val_images, val_labels, segmentations) in enumerate(val_loader):\n",
    "            if SEGMENT:\n",
    "                val_images = torch.mul(val_images, segmentations) #Apply segmentation\n",
    "                if CROP_ROI:\n",
    "                    val_images = utils.crop_roi(val_images)\n",
    "            val_images = val_images.to(device)\n",
    "            val_labels = val_labels.to(device)\n",
    "            \n",
    "            val_outputs = model(val_images)\n",
    "            validation_preds = torch.argmax(val_outputs, -1).detach()   \n",
    "            validation_count += len(val_labels)\n",
    "            validation_correct_preds += (validation_preds == val_labels).sum()\n",
    "            \n",
    "            val_loss = loss_function(val_outputs, val_labels)\n",
    "            wandb.log({\"Validation Loss\": val_loss.item()})\n",
    "            val_loss_iter += val_loss.item()\n",
    "        \n",
    "        val_losses.append(val_loss_iter/(len(val_loader)*BATCH_SIZE))\n",
    "\n",
    "        val_accuracy = 100 * (validation_correct_preds / validation_count)\n",
    "        val_accuracies.append(val_accuracy)\n",
    "        wandb.log({\"Validation Accuracy\": val_accuracy})\n",
    "        print('Validation -> Validation accuracy for epoch {} is: {:.4f}%'.format(epoch+1, val_accuracy))\n",
    "        print('Validation -> Validation loss for epoch {} is: {:.4f}'.format(epoch+1, val_loss.item()))"
   ]
  },
  {
   "cell_type": "code",
   "execution_count": null,
   "metadata": {},
   "outputs": [
    {
     "data": {
      "image/png": "[encoded data removed]",
      "text/plain": [
       "<Figure size 640x480 with 1 Axes>"
      ]
     },
     "metadata": {},
     "output_type": "display_data"
    },
    {
     "data": {
      "image/png": "[encoded data removed]",
      "text/plain": [
       "<Figure size 640x480 with 1 Axes>"
      ]
     },
     "metadata": {},
     "output_type": "display_data"
    }
   ],
   "source": [
    "model.eval()\n",
    "\n",
    "plt.figure(2)\n",
    "plt.plot(train_losses, 'r', label='Train loss')\n",
    "plt.plot(val_losses, 'g', label='Val loss')\n",
    "plt.legend()\n",
    "plt.show()\n",
    "\n",
    "plt.figure(3)\n",
    "plt.plot([val_accuracy.cpu() for val_accuracy in val_accuracies], 'r', label='Val accuracy')\n",
    "plt.legend()\n",
    "plt.show()"
   ]
  }
 ],
 "metadata": {
  "kernelspec": {
   "display_name": "aml_project",
   "language": "python",
   "name": "python3"
  },
  "language_info": {
   "codemirror_mode": {
    "name": "ipython",
    "version": 3
   },
   "file_extension": ".py",
   "mimetype": "text/x-python",
   "name": "python",
   "nbconvert_exporter": "python",
   "pygments_lexer": "ipython3",
   "version": "3.10.11"
  }
 },
 "nbformat": 4,
 "nbformat_minor": 2
}

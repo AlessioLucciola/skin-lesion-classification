{
 "cells": [
  {
   "cell_type": "code",
   "execution_count": 1,
   "metadata": {},
   "outputs": [],
   "source": [
    "import torch\n",
    "from torch import nn\n",
    "from tqdm.notebook import tqdm\n",
    "from dataloaders import create_dataloaders"
   ]
  },
  {
   "cell_type": "code",
   "execution_count": 10,
   "metadata": {},
   "outputs": [],
   "source": [
    "class CNN(nn.Module):\n",
    "    def __init__(self):\n",
    "        super(CNN, self).__init__()\n",
    "        self.conv1 = nn.Conv2d(3, 16, kernel_size=3, stride=1, padding=\"same\")\n",
    "        self.bn1 = nn.BatchNorm2d(16)\n",
    "        self.conv2 = nn.Conv2d(16, 32, kernel_size=3, stride=1, padding=\"same\")\n",
    "        self.bn2 = nn.BatchNorm2d(32)\n",
    "        self.conv3 = nn.Conv2d(32, 64, kernel_size=3, stride=1, padding=\"same\")\n",
    "        self.bn3 = nn.BatchNorm2d(64)\n",
    "        self.conv4 = nn.Conv2d(64, 128, kernel_size=3,\n",
    "                               stride=1, padding=\"same\")\n",
    "        self.bn4 = nn.BatchNorm2d(128)\n",
    "        self.conv5 = nn.Conv2d(128, 256, kernel_size=3,\n",
    "                               stride=1, padding=\"same\")\n",
    "        self.bn5 = nn.BatchNorm2d(256)\n",
    "        self.pool = nn.MaxPool2d(2, 2)\n",
    "        self.dropout = nn.Dropout(0.5)\n",
    "        self.fc1 = nn.Linear(256*7*7, 128)\n",
    "        self.fc2 = nn.Linear(128, 64)\n",
    "        self.fc3 = nn.Linear(64, 7)\n",
    "        self.ReLu = nn.ReLU()\n",
    "\n",
    "    def forward(self, x):\n",
    "        x = self.pool(self.bn1(self.ReLu(self.conv1(x))))\n",
    "        x = self.dropout(x)\n",
    "        x = self.pool(self.bn2(self.ReLu(self.conv2(x))))\n",
    "        x = self.dropout(x)\n",
    "        x = self.pool(self.bn3(self.ReLu(self.conv3(x))))\n",
    "        x = self.dropout(x)\n",
    "        x = self.pool(self.bn4(self.ReLu(self.conv4(x))))\n",
    "        x = self.dropout(x)\n",
    "        x = self.pool(self.bn5(self.ReLu(self.conv5(x))))\n",
    "        x = self.dropout(x)\n",
    "        x = x.view(x.size(0), -1)\n",
    "        x = self.ReLu(self.fc1(x))\n",
    "        x = self.dropout(x)\n",
    "        x = self.ReLu(self.fc2(x))\n",
    "        x = self.dropout(x)\n",
    "        x = self.fc3(x)\n",
    "        return x"
   ]
  },
  {
   "cell_type": "code",
   "execution_count": 3,
   "metadata": {},
   "outputs": [
    {
     "name": "stdout",
     "output_type": "stream",
     "text": [
      "--Data Balance-- balance_data set to True. Training data will be balanced.\n",
      "--Data Balance-- The most common class is 0 with 5364 images.\n",
      "--Data Balance-- The second common class is 4 with 890 images with a difference of 4474 images from the most common class.\n",
      "--Data Balance (Undersampling)-- Removing 2682 from 0 class..\n",
      "--Data Balance (Undersampling)-- 0 now has 2682 images\n",
      "-- Data Balance (Oversampling) -- Adding 2420 from 1 class..\n",
      "-- Data Balance (Oversampling) -- Adding 1803 from 2 class..\n",
      "-- Data Balance (Oversampling) -- Adding 2271 from 3 class..\n",
      "-- Data Balance (Oversampling) -- Adding 1792 from 4 class..\n",
      "-- Data Balance (Oversampling) -- Adding 2568 from 5 class..\n",
      "-- Data Balance (Oversampling) -- Adding 2590 from 6 class..\n"
     ]
    },
    {
     "name": "stderr",
     "output_type": "stream",
     "text": [
      "Loading images: 18774it [03:03, 102.56it/s]\n"
     ]
    },
    {
     "name": "stdout",
     "output_type": "stream",
     "text": [
      "---Data Loader--- Images uploaded: 18774\n",
      "Loading complete, some files (0) were not found: []\n"
     ]
    },
    {
     "name": "stderr",
     "output_type": "stream",
     "text": [
      "Loading images: 2003it [00:21, 94.26it/s] \n"
     ]
    },
    {
     "name": "stdout",
     "output_type": "stream",
     "text": [
      "---Data Loader--- Images uploaded: 2003\n",
      "Loading complete, some files (0) were not found: []\n"
     ]
    },
    {
     "name": "stderr",
     "output_type": "stream",
     "text": [
      "Loading images: 1512it [00:11, 131.61it/s]\n"
     ]
    },
    {
     "name": "stdout",
     "output_type": "stream",
     "text": [
      "---Data Loader--- Images uploaded: 1511\n",
      "Loading complete, some files (1) were not found: ['data/HAM10000_images_test/ISIC_0035068.jpg']\n"
     ]
    }
   ],
   "source": [
    "resnet_mean = torch.tensor([0.485, 0.456, 0.406])\n",
    "resnet_std = torch.tensor([0.229, 0.224, 0.225])\n",
    "train_loader, val_loader, test_loader = create_dataloaders(\n",
    "    mean=resnet_mean,\n",
    "    std=resnet_std,\n",
    "    normalize=False,\n",
    "    limit=None)"
   ]
  },
  {
   "cell_type": "code",
   "execution_count": 12,
   "metadata": {},
   "outputs": [
    {
     "data": {
      "application/vnd.jupyter.widget-view+json": {
       "model_id": "7f01a2a50a8d4b33919ad8de95f0d803",
       "version_major": 2,
       "version_minor": 0
      },
      "text/plain": [
       "Epochs:   0%|          | 0/50 [00:00<?, ?it/s]"
      ]
     },
     "metadata": {},
     "output_type": "display_data"
    },
    {
     "data": {
      "application/vnd.jupyter.widget-view+json": {
       "model_id": "90f59580f4d24fd19db845a304ee822f",
       "version_major": 2,
       "version_minor": 0
      },
      "text/plain": [
       "Training:   0%|          | 0/294 [00:00<?, ?it/s]"
      ]
     },
     "metadata": {},
     "output_type": "display_data"
    },
    {
     "name": "stdout",
     "output_type": "stream",
     "text": [
      "Epoch 0 training loss: 1.2864296436309814\n",
      "Epoch 0 training accuracy: 0.3734952509403229\n",
      "Epoch 0 validation accuracy: 0.6220669150352478\n",
      "Epoch 0 validation loss: 2.6691596508026123\n"
     ]
    },
    {
     "data": {
      "application/vnd.jupyter.widget-view+json": {
       "model_id": "088aab6fab6944b69c808b6d5e20a6e0",
       "version_major": 2,
       "version_minor": 0
      },
      "text/plain": [
       "Training:   0%|          | 0/294 [00:00<?, ?it/s]"
      ]
     },
     "metadata": {},
     "output_type": "display_data"
    },
    {
     "name": "stdout",
     "output_type": "stream",
     "text": [
      "Epoch 1 training loss: 1.3045295476913452\n",
      "Epoch 1 training accuracy: 0.4689464271068573\n",
      "Epoch 1 validation accuracy: 0.43185222148895264\n",
      "Epoch 1 validation loss: 1.9027818441390991\n"
     ]
    },
    {
     "data": {
      "application/vnd.jupyter.widget-view+json": {
       "model_id": "5da9c57ec5674c5b9ba5b24115b2d140",
       "version_major": 2,
       "version_minor": 0
      },
      "text/plain": [
       "Training:   0%|          | 0/294 [00:00<?, ?it/s]"
      ]
     },
     "metadata": {},
     "output_type": "display_data"
    },
    {
     "name": "stdout",
     "output_type": "stream",
     "text": [
      "Epoch 2 training loss: 1.5490524768829346\n",
      "Epoch 2 training accuracy: 0.507989764213562\n",
      "Epoch 2 validation accuracy: 0.528706967830658\n",
      "Epoch 2 validation loss: 1.9644695520401\n"
     ]
    },
    {
     "data": {
      "application/vnd.jupyter.widget-view+json": {
       "model_id": "4c67a8e0ad6e4a05843a5af1a8e3d469",
       "version_major": 2,
       "version_minor": 0
      },
      "text/plain": [
       "Training:   0%|          | 0/294 [00:00<?, ?it/s]"
      ]
     },
     "metadata": {},
     "output_type": "display_data"
    },
    {
     "name": "stdout",
     "output_type": "stream",
     "text": [
      "Epoch 3 training loss: 1.203896164894104\n",
      "Epoch 3 training accuracy: 0.5324384570121765\n",
      "Epoch 3 validation accuracy: 0.5381926894187927\n",
      "Epoch 3 validation loss: 1.924798846244812\n"
     ]
    },
    {
     "data": {
      "application/vnd.jupyter.widget-view+json": {
       "model_id": "5480f4e18e294835a3417b876de8c9fa",
       "version_major": 2,
       "version_minor": 0
      },
      "text/plain": [
       "Training:   0%|          | 0/294 [00:00<?, ?it/s]"
      ]
     },
     "metadata": {},
     "output_type": "display_data"
    },
    {
     "name": "stdout",
     "output_type": "stream",
     "text": [
      "Epoch 4 training loss: 0.9937198162078857\n",
      "Epoch 4 training accuracy: 0.5592840909957886\n",
      "Epoch 4 validation accuracy: 0.5536695122718811\n",
      "Epoch 4 validation loss: 1.8546805381774902\n"
     ]
    },
    {
     "data": {
      "application/vnd.jupyter.widget-view+json": {
       "model_id": "ce529e9357a14398a59520de7e61679f",
       "version_major": 2,
       "version_minor": 0
      },
      "text/plain": [
       "Training:   0%|          | 0/294 [00:00<?, ?it/s]"
      ]
     },
     "metadata": {},
     "output_type": "display_data"
    },
    {
     "name": "stdout",
     "output_type": "stream",
     "text": [
      "Epoch 5 training loss: 0.541754961013794\n",
      "Epoch 5 training accuracy: 0.5850111842155457\n",
      "Epoch 5 validation accuracy: 0.5551672577857971\n",
      "Epoch 5 validation loss: 1.7152067422866821\n"
     ]
    },
    {
     "data": {
      "application/vnd.jupyter.widget-view+json": {
       "model_id": "98efeee0c28a46bc91bfab1a18e2fc88",
       "version_major": 2,
       "version_minor": 0
      },
      "text/plain": [
       "Training:   0%|          | 0/294 [00:00<?, ?it/s]"
      ]
     },
     "metadata": {},
     "output_type": "display_data"
    },
    {
     "name": "stdout",
     "output_type": "stream",
     "text": [
      "Epoch 6 training loss: 0.878394365310669\n",
      "Epoch 6 training accuracy: 0.6039735674858093\n",
      "Epoch 6 validation accuracy: 0.5381926894187927\n",
      "Epoch 6 validation loss: 1.5782047510147095\n"
     ]
    },
    {
     "data": {
      "application/vnd.jupyter.widget-view+json": {
       "model_id": "c72ae0807ac04c9fa74aa0de3adc8d13",
       "version_major": 2,
       "version_minor": 0
      },
      "text/plain": [
       "Training:   0%|          | 0/294 [00:00<?, ?it/s]"
      ]
     },
     "metadata": {},
     "output_type": "display_data"
    },
    {
     "name": "stdout",
     "output_type": "stream",
     "text": [
      "Epoch 7 training loss: 0.8383362293243408\n",
      "Epoch 7 training accuracy: 0.6162245869636536\n",
      "Epoch 7 validation accuracy: 0.5396904349327087\n",
      "Epoch 7 validation loss: 1.5724403858184814\n"
     ]
    },
    {
     "data": {
      "application/vnd.jupyter.widget-view+json": {
       "model_id": "ce500e9c4bf34c74963e3170a339c565",
       "version_major": 2,
       "version_minor": 0
      },
      "text/plain": [
       "Training:   0%|          | 0/294 [00:00<?, ?it/s]"
      ]
     },
     "metadata": {},
     "output_type": "display_data"
    },
    {
     "name": "stdout",
     "output_type": "stream",
     "text": [
      "Epoch 8 training loss: 0.9510907530784607\n",
      "Epoch 8 training accuracy: 0.6327900290489197\n",
      "Epoch 8 validation accuracy: 0.6220669150352478\n",
      "Epoch 8 validation loss: 2.1415750980377197\n"
     ]
    },
    {
     "data": {
      "application/vnd.jupyter.widget-view+json": {
       "model_id": "cdd1436264c847c6abe304e648eaf34d",
       "version_major": 2,
       "version_minor": 0
      },
      "text/plain": [
       "Training:   0%|          | 0/294 [00:00<?, ?it/s]"
      ]
     },
     "metadata": {},
     "output_type": "display_data"
    },
    {
     "name": "stdout",
     "output_type": "stream",
     "text": [
      "Epoch 9 training loss: 1.65582275390625\n",
      "Epoch 9 training accuracy: 0.6406732797622681\n",
      "Epoch 9 validation accuracy: 0.6225661635398865\n",
      "Epoch 9 validation loss: 1.5840970277786255\n"
     ]
    },
    {
     "data": {
      "application/vnd.jupyter.widget-view+json": {
       "model_id": "ff610660717442d888952611ac2f2176",
       "version_major": 2,
       "version_minor": 0
      },
      "text/plain": [
       "Training:   0%|          | 0/294 [00:00<?, ?it/s]"
      ]
     },
     "metadata": {},
     "output_type": "display_data"
    },
    {
     "name": "stdout",
     "output_type": "stream",
     "text": [
      "Epoch 10 training loss: 0.628886342048645\n",
      "Epoch 10 training accuracy: 0.6487163305282593\n",
      "Epoch 10 validation accuracy: 0.6380429267883301\n",
      "Epoch 10 validation loss: 2.0009284019470215\n"
     ]
    },
    {
     "data": {
      "application/vnd.jupyter.widget-view+json": {
       "model_id": "2435d626a0a34538a617f4729a65cbc2",
       "version_major": 2,
       "version_minor": 0
      },
      "text/plain": [
       "Training:   0%|          | 0/294 [00:00<?, ?it/s]"
      ]
     },
     "metadata": {},
     "output_type": "display_data"
    },
    {
     "name": "stdout",
     "output_type": "stream",
     "text": [
      "Epoch 11 training loss: 0.7979511022567749\n",
      "Epoch 11 training accuracy: 0.6626718044281006\n",
      "Epoch 11 validation accuracy: 0.6340489387512207\n",
      "Epoch 11 validation loss: 2.3393566608428955\n"
     ]
    },
    {
     "data": {
      "application/vnd.jupyter.widget-view+json": {
       "model_id": "1bb6e718cb50444fad9f5d5a84d36c29",
       "version_major": 2,
       "version_minor": 0
      },
      "text/plain": [
       "Training:   0%|          | 0/294 [00:00<?, ?it/s]"
      ]
     },
     "metadata": {},
     "output_type": "display_data"
    },
    {
     "ename": "KeyboardInterrupt",
     "evalue": "",
     "output_type": "error",
     "traceback": [
      "\u001b[0;31m---------------------------------------------------------------------------\u001b[0m",
      "\u001b[0;31mKeyboardInterrupt\u001b[0m                         Traceback (most recent call last)",
      "\u001b[1;32m/Users/dov/Library/Mobile Documents/com~apple~CloudDocs/dovsync/Documenti Universita/Advanced Machine Learning/AML Project.nosync/melanoma-detection/CNN.ipynb Cell 4\u001b[0m line \u001b[0;36m4\n\u001b[1;32m     <a href='vscode-notebook-cell:/Users/dov/Library/Mobile%20Documents/com~apple~CloudDocs/dovsync/Documenti%20Universita/Advanced%20Machine%20Learning/AML%20Project.nosync/melanoma-detection/CNN.ipynb#X21sZmlsZQ%3D%3D?line=44'>45</a>\u001b[0m     training_count \u001b[39m+\u001b[39m\u001b[39m=\u001b[39m \u001b[39mlen\u001b[39m(labels)\n\u001b[1;32m     <a href='vscode-notebook-cell:/Users/dov/Library/Mobile%20Documents/com~apple~CloudDocs/dovsync/Documenti%20Universita/Advanced%20Machine%20Learning/AML%20Project.nosync/melanoma-detection/CNN.ipynb#X21sZmlsZQ%3D%3D?line=45'>46</a>\u001b[0m     training_correct_preds \u001b[39m+\u001b[39m\u001b[39m=\u001b[39m (training_preds \u001b[39m==\u001b[39m labels)\u001b[39m.\u001b[39msum()\n\u001b[0;32m---> <a href='vscode-notebook-cell:/Users/dov/Library/Mobile%20Documents/com~apple~CloudDocs/dovsync/Documenti%20Universita/Advanced%20Machine%20Learning/AML%20Project.nosync/melanoma-detection/CNN.ipynb#X21sZmlsZQ%3D%3D?line=47'>48</a>\u001b[0m losses\u001b[39m.\u001b[39mappend(loss\u001b[39m.\u001b[39;49mitem())\n\u001b[1;32m     <a href='vscode-notebook-cell:/Users/dov/Library/Mobile%20Documents/com~apple~CloudDocs/dovsync/Documenti%20Universita/Advanced%20Machine%20Learning/AML%20Project.nosync/melanoma-detection/CNN.ipynb#X21sZmlsZQ%3D%3D?line=49'>50</a>\u001b[0m pbar\u001b[39m.\u001b[39mset_description(\u001b[39mf\u001b[39m\u001b[39m\"\u001b[39m\u001b[39mTraining loss: \u001b[39m\u001b[39m{\u001b[39;00mloss\u001b[39m.\u001b[39mitem()\u001b[39m:\u001b[39;00m\u001b[39m.4f\u001b[39m\u001b[39m}\u001b[39;00m\u001b[39m, Accuracy: \u001b[39m\u001b[39m{\u001b[39;00m(training_correct_preds\u001b[39m \u001b[39m\u001b[39m/\u001b[39m\u001b[39m \u001b[39mtraining_count)\u001b[39m:\u001b[39;00m\u001b[39m.4f\u001b[39m\u001b[39m}\u001b[39;00m\u001b[39m\"\u001b[39m)\n\u001b[1;32m     <a href='vscode-notebook-cell:/Users/dov/Library/Mobile%20Documents/com~apple~CloudDocs/dovsync/Documenti%20Universita/Advanced%20Machine%20Learning/AML%20Project.nosync/melanoma-detection/CNN.ipynb#X21sZmlsZQ%3D%3D?line=50'>51</a>\u001b[0m pbar\u001b[39m.\u001b[39mupdate()\n",
      "\u001b[0;31mKeyboardInterrupt\u001b[0m: "
     ]
    }
   ],
   "source": [
    "from utils import crop_roi\n",
    "\n",
    "\n",
    "torch.set_printoptions(precision=2)\n",
    "\n",
    "device = torch.device(\"mps\")\n",
    "model = CNN().to(device)\n",
    "\n",
    "hparams = {\n",
    "    'lr': 0.001,\n",
    "    'epochs': 50,\n",
    "    # 'weight_decay': None\n",
    "}\n",
    "\n",
    "optimizer = torch.optim.Adam(\n",
    "    model.parameters(), lr=hparams['lr'])\n",
    "criterion = nn.CrossEntropyLoss()\n",
    "\n",
    "losses = []\n",
    "\n",
    "best_val_loss = float('inf')\n",
    "\n",
    "batch: torch.Tensor\n",
    "labels: torch.Tensor\n",
    "segmentations: torch.Tensor\n",
    "for epoch in tqdm(range(hparams['epochs']), desc=\"Epochs\"):\n",
    "    model.train()\n",
    "    pbar = tqdm(train_loader, desc=\"Training\")\n",
    "    training_count = 0\n",
    "    training_correct_preds = 0\n",
    "    for (batch, labels, segmentations) in train_loader:\n",
    "        masked_image = batch * segmentations\n",
    "        masked_image = crop_roi(masked_image)\n",
    "        masked_image = masked_image.to(device)\n",
    "\n",
    "        preds = model(masked_image)\n",
    "        labels = labels.to(device)\n",
    "        loss = criterion(preds, labels)\n",
    "        loss.backward()\n",
    "        optimizer.step()\n",
    "        optimizer.zero_grad()\n",
    "\n",
    "        with torch.no_grad():\n",
    "            training_preds = torch.argmax(preds, -1).detach()\n",
    "            training_count += len(labels)\n",
    "            training_correct_preds += (training_preds == labels).sum()\n",
    "\n",
    "        losses.append(loss.item())\n",
    "\n",
    "        pbar.set_description(f\"Training loss: {loss.item():.4f}, Accuracy: {(training_correct_preds / training_count):.4f}\")\n",
    "        pbar.update()\n",
    "    print(f\"Epoch {epoch} training loss: {loss.item()}\")\n",
    "    print(f\"Epoch {epoch} training accuracy: {training_correct_preds / training_count}\")\n",
    "    pbar.close()\n",
    "\n",
    "    # pbar = tqdm(val_loader, desc=\"Validation\")\n",
    "    model.eval()\n",
    "    with torch.no_grad():\n",
    "        val_count = 0\n",
    "        val_correct_preds = 0\n",
    "        for (batch, labels, segmentations) in val_loader:\n",
    "            masked_image = batch * segmentations\n",
    "            masked_image = crop_roi(masked_image)\n",
    "            batch = masked_image.to(device)\n",
    "\n",
    "            assert labels.shape == (batch.shape[0],)\n",
    "            \n",
    "            preds = model(batch)\n",
    "            labels = labels.to(device)\n",
    "            loss = criterion(preds, labels)\n",
    "\n",
    "            val_preds = torch.argmax(preds, -1).detach()\n",
    "            val_count += len(labels)\n",
    "            val_correct_preds += (val_preds == labels).sum()\n",
    "\n",
    "\n",
    "\n",
    "            # pbar.set_description(f\"Validation loss: {loss.item():.4f}\")\n",
    "            # pbar.update()\n",
    "        print(f\"Epoch {epoch} validation accuracy: {val_correct_preds / val_count}\")\n",
    "        print(f\"Epoch {epoch} validation loss: {loss.item()}\")"
   ]
  },
  {
   "cell_type": "code",
   "execution_count": 13,
   "metadata": {},
   "outputs": [],
   "source": [
    "torch.save(model, \"./model_acc_0.73_epoch_12.pth\")"
   ]
  },
  {
   "cell_type": "code",
   "execution_count": 14,
   "metadata": {},
   "outputs": [
    {
     "data": {
      "image/png": "[encoded data removed]",
      "text/plain": [
       "<Figure size 1000x500 with 1 Axes>"
      ]
     },
     "metadata": {},
     "output_type": "display_data"
    }
   ],
   "source": [
    "import matplotlib.pyplot as plt\n",
    "plt.figure(figsize=(10, 5))\n",
    "plt.plot(losses)\n",
    "plt.title('Loss over time')\n",
    "plt.xlabel('Iteration')\n",
    "plt.ylabel('Loss')\n",
    "plt.show()"
   ]
  }
 ],
 "metadata": {
  "kernelspec": {
   "display_name": "aml_project",
   "language": "python",
   "name": "python3"
  },
  "language_info": {
   "codemirror_mode": {
    "name": "ipython",
    "version": 3
   },
   "file_extension": ".py",
   "mimetype": "text/x-python",
   "name": "python",
   "nbconvert_exporter": "python",
   "pygments_lexer": "ipython3",
   "version": "3.10.11"
  }
 },
 "nbformat": 4,
 "nbformat_minor": 2
}

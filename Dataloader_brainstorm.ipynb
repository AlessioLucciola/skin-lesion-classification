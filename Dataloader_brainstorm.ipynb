{
 "cells": [
  {
   "cell_type": "code",
   "execution_count": 1,
   "metadata": {},
   "outputs": [],
   "source": [
    "import os\n",
    "os.environ['PYTORCH_ENABLE_MPS_FALLBACK'] = '1'"
   ]
  },
  {
   "cell_type": "code",
   "execution_count": 2,
   "metadata": {},
   "outputs": [],
   "source": [
    "from utils.plot_utils import plot_image_grid"
   ]
  },
  {
   "cell_type": "code",
   "execution_count": 3,
   "metadata": {},
   "outputs": [
    {
     "name": "stdout",
     "output_type": "stream",
     "text": [
      "Using device: mps\n",
      "LOADED METADATA HAS LENGTH 10015\n",
      "---TRAIN---: 33789 entries\n",
      "---VAL---: 1803 entries\n",
      "---TEST---: 1002 entries\n",
      "Using device: mps\n"
     ]
    },
    {
     "name": "stderr",
     "output_type": "stream",
     "text": [
      "/Users/dov/miniconda3/envs/aml_project/lib/python3.10/site-packages/albumentations/augmentations/dropout/cutout.py:49: FutureWarning: Cutout has been deprecated. Please use CoarseDropout\n",
      "  warnings.warn(\n"
     ]
    },
    {
     "ename": "Exception",
     "evalue": "Upscale already happens with offline data, please set upscale_train=False",
     "output_type": "error",
     "traceback": [
      "\u001b[0;31m---------------------------------------------------------------------------\u001b[0m",
      "\u001b[0;31mException\u001b[0m                                 Traceback (most recent call last)",
      "Cell \u001b[0;32mIn[3], line 5\u001b[0m\n\u001b[1;32m      2\u001b[0m \u001b[38;5;28;01mfrom\u001b[39;00m \u001b[38;5;21;01mdataloaders\u001b[39;00m\u001b[38;5;21;01m.\u001b[39;00m\u001b[38;5;21;01mMSLANetDataLoader\u001b[39;00m \u001b[38;5;28;01mimport\u001b[39;00m MSLANetDataLoader\n\u001b[1;32m      3\u001b[0m \u001b[38;5;28;01mfrom\u001b[39;00m \u001b[38;5;21;01mshared\u001b[39;00m\u001b[38;5;21;01m.\u001b[39;00m\u001b[38;5;21;01mconstants\u001b[39;00m \u001b[38;5;28;01mimport\u001b[39;00m IMAGENET_STATISTICS\n\u001b[0;32m----> 5\u001b[0m dataloader \u001b[38;5;241m=\u001b[39m \u001b[43mMSLANetDataLoader\u001b[49m\u001b[43m(\u001b[49m\n\u001b[1;32m      6\u001b[0m \u001b[43m    \u001b[49m\u001b[43mdynamic_load\u001b[49m\u001b[38;5;241;43m=\u001b[39;49m\u001b[38;5;28;43;01mTrue\u001b[39;49;00m\u001b[43m,\u001b[49m\n\u001b[1;32m      7\u001b[0m \u001b[43m    \u001b[49m\u001b[43mload_synthetic\u001b[49m\u001b[38;5;241;43m=\u001b[39;49m\u001b[38;5;28;43;01mTrue\u001b[39;49;00m\u001b[43m,\u001b[49m\n\u001b[1;32m      8\u001b[0m \u001b[43m    \u001b[49m\u001b[43mnormalize\u001b[49m\u001b[38;5;241;43m=\u001b[39;49m\u001b[38;5;28;43;01mFalse\u001b[39;49;00m\u001b[43m,\u001b[49m\n\u001b[1;32m      9\u001b[0m \u001b[43m    \u001b[49m\u001b[43mnormalization_statistics\u001b[49m\u001b[38;5;241;43m=\u001b[39;49m\u001b[43mIMAGENET_STATISTICS\u001b[49m\u001b[43m,\u001b[49m\n\u001b[1;32m     10\u001b[0m \u001b[43m    \u001b[49m\u001b[43mbatch_size\u001b[49m\u001b[38;5;241;43m=\u001b[39;49m\u001b[38;5;241;43m32\u001b[39;49m\u001b[43m,\u001b[49m\n\u001b[1;32m     11\u001b[0m \u001b[43m    \u001b[49m\u001b[43mupscale_train\u001b[49m\u001b[38;5;241;43m=\u001b[39;49m\u001b[38;5;28;43;01mTrue\u001b[39;49;00m\u001b[43m,\u001b[49m\n\u001b[1;32m     12\u001b[0m \u001b[43m    \u001b[49m\u001b[43monline_gradcam\u001b[49m\u001b[38;5;241;43m=\u001b[39;49m\u001b[38;5;28;43;01mFalse\u001b[39;49;00m\u001b[43m,\u001b[49m\n\u001b[1;32m     13\u001b[0m \u001b[43m)\u001b[49m\n\u001b[1;32m     14\u001b[0m train_dataloader \u001b[38;5;241m=\u001b[39m dataloader\u001b[38;5;241m.\u001b[39mget_train_dataloder()\n\u001b[1;32m     15\u001b[0m batch \u001b[38;5;241m=\u001b[39m \u001b[38;5;28mnext\u001b[39m(\u001b[38;5;28miter\u001b[39m(train_dataloader))\n",
      "File \u001b[0;32m~/Library/Mobile Documents/com~apple~CloudDocs/dovsync/Documenti Universita/Advanced Machine Learning/AML Project.nosync/melanoma-detection/dataloaders/MSLANetDataLoader.py:62\u001b[0m, in \u001b[0;36mMSLANetDataLoader.__init__\u001b[0;34m(self, limit, transform, dynamic_load, resize_dim, upscale_train, normalize, normalization_statistics, batch_size, load_synthetic, online_gradcam)\u001b[0m\n\u001b[1;32m     59\u001b[0m \u001b[38;5;28mself\u001b[39m\u001b[38;5;241m.\u001b[39mgradcam \u001b[38;5;241m=\u001b[39m GradCAM()\n\u001b[1;32m     61\u001b[0m \u001b[38;5;28;01mif\u001b[39;00m \u001b[38;5;129;01mnot\u001b[39;00m \u001b[38;5;28mself\u001b[39m\u001b[38;5;241m.\u001b[39monline_gradcam \u001b[38;5;129;01mand\u001b[39;00m \u001b[38;5;28mself\u001b[39m\u001b[38;5;241m.\u001b[39mupscale_train:\n\u001b[0;32m---> 62\u001b[0m     \u001b[38;5;28;01mraise\u001b[39;00m \u001b[38;5;167;01mException\u001b[39;00m(\n\u001b[1;32m     63\u001b[0m         \u001b[38;5;124m\"\u001b[39m\u001b[38;5;124mUpscale already happens with offline data, please set upscale_train=False\u001b[39m\u001b[38;5;124m\"\u001b[39m)\n",
      "\u001b[0;31mException\u001b[0m: Upscale already happens with offline data, please set upscale_train=False"
     ]
    }
   ],
   "source": [
    "from dataloaders.ImagesAndSegmentationDataLoader import ImagesAndSegmentationDataLoader\n",
    "from dataloaders.MSLANetDataLoader import MSLANetDataLoader\n",
    "from shared.constants import IMAGENET_STATISTICS\n",
    "\n",
    "dataloader = MSLANetDataLoader(\n",
    "    dynamic_load=True,\n",
    "    load_synthetic=True,\n",
    "    normalize=False,\n",
    "    normalization_statistics=IMAGENET_STATISTICS,\n",
    "    batch_size=32,\n",
    "    upscale_train=False,\n",
    "    online_gradcam=False,\n",
    ")\n",
    "train_dataloader = dataloader.get_train_dataloder()\n",
    "batch = next(iter(train_dataloader))\n",
    "(image_ori, image_low, image_high), labels = batch\n",
    "plot_image_grid(image_ori, \"Original Images\")\n",
    "plot_image_grid(image_low, \"Images Low Threshold\")\n",
    "plot_image_grid(image_high, \"Images High Threshold\")\n",
    "val_dataloader = dataloader.get_val_dataloader()\n",
    "batch = next(iter(val_dataloader))\n",
    "(image_ori, image_low, image_high), labels = batch\n",
    "plot_image_grid(image_ori, \"Val Original Images\")\n",
    "plot_image_grid(image_low, \"Val Images Low Threshold\")\n",
    "plot_image_grid(image_high, \"Val Images High Threshold\")"
   ]
  }
 ],
 "metadata": {
  "kernelspec": {
   "display_name": "aml_project",
   "language": "python",
   "name": "python3"
  },
  "language_info": {
   "codemirror_mode": {
    "name": "ipython",
    "version": 3
   },
   "file_extension": ".py",
   "mimetype": "text/x-python",
   "name": "python",
   "nbconvert_exporter": "python",
   "pygments_lexer": "ipython3",
   "version": "3.10.11"
  }
 },
 "nbformat": 4,
 "nbformat_minor": 2
}

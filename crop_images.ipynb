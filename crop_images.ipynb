{
 "cells": [
  {
   "cell_type": "code",
   "execution_count": 1,
   "metadata": {},
   "outputs": [],
   "source": [
    "from utils import crop_roi, plot_image_grid\n",
    "from dataloaders import create_dataloaders\n",
    "import numpy as np\n",
    "import torch"
   ]
  },
  {
   "cell_type": "code",
   "execution_count": 2,
   "metadata": {},
   "outputs": [
    {
     "name": "stderr",
     "output_type": "stream",
     "text": [
      "/Users/dov/Library/Mobile Documents/com~apple~CloudDocs/dovsync/Documenti Universita/Advanced Machine Learning/AML Project.nosync/melanoma-detection/dataloaders.py:40: SettingWithCopyWarning: \n",
      "A value is trying to be set on a copy of a slice from a DataFrame.\n",
      "Try using .loc[row_indexer,col_indexer] = value instead\n",
      "\n",
      "See the caveats in the documentation: https://pandas.pydata.org/pandas-docs/stable/user_guide/indexing.html#returning-a-view-versus-a-copy\n",
      "  self.metadata['label'] = labels_encoded\n",
      "/Users/dov/Library/Mobile Documents/com~apple~CloudDocs/dovsync/Documenti Universita/Advanced Machine Learning/AML Project.nosync/melanoma-detection/dataloaders.py:41: SettingWithCopyWarning: \n",
      "A value is trying to be set on a copy of a slice from a DataFrame.\n",
      "Try using .loc[row_indexer,col_indexer] = value instead\n",
      "\n",
      "See the caveats in the documentation: https://pandas.pydata.org/pandas-docs/stable/user_guide/indexing.html#returning-a-view-versus-a-copy\n",
      "  self.metadata['augmented'] = False\n"
     ]
    },
    {
     "name": "stdout",
     "output_type": "stream",
     "text": [
      "34\n",
      "6\n",
      "1 Index([0, 1, 2, 18, 27, 30, 1, 18, 0, 1, 18, 18, 1, 18, 27, 0, 27], dtype='int64')\n",
      "2 Index([3, 3, 3, 3, 3, 3, 3, 3, 3, 3, 3, 3, 3, 3, 3, 3, 3], dtype='int64')\n",
      "0 Index([4, 5, 7, 8, 11, 12, 13, 14, 15, 17, 19, 20, 24, 25, 26, 28, 31], dtype='int64')\n",
      "3 Index([6, 6, 6, 6, 6, 6, 6, 6, 6, 6, 6, 6, 6, 6, 6, 6, 6], dtype='int64')\n",
      "4 Index([9, 10, 16, 22, 29, 32, 32, 22, 22, 10, 29, 9, 16, 32, 22, 22, 29], dtype='int64')\n",
      "5 Index([21, 23, 23, 23, 21, 21, 21, 21, 21, 23, 23, 21, 23, 21, 23, 21, 21], dtype='int64')\n"
     ]
    },
    {
     "name": "stderr",
     "output_type": "stream",
     "text": [
      "Loading train images: 102it [00:00, 147.88it/s]\n",
      "/Users/dov/Library/Mobile Documents/com~apple~CloudDocs/dovsync/Documenti Universita/Advanced Machine Learning/AML Project.nosync/melanoma-detection/dataloaders.py:40: SettingWithCopyWarning: \n",
      "A value is trying to be set on a copy of a slice from a DataFrame.\n",
      "Try using .loc[row_indexer,col_indexer] = value instead\n",
      "\n",
      "See the caveats in the documentation: https://pandas.pydata.org/pandas-docs/stable/user_guide/indexing.html#returning-a-view-versus-a-copy\n",
      "  self.metadata['label'] = labels_encoded\n",
      "/Users/dov/Library/Mobile Documents/com~apple~CloudDocs/dovsync/Documenti Universita/Advanced Machine Learning/AML Project.nosync/melanoma-detection/dataloaders.py:41: SettingWithCopyWarning: \n",
      "A value is trying to be set on a copy of a slice from a DataFrame.\n",
      "Try using .loc[row_indexer,col_indexer] = value instead\n",
      "\n",
      "See the caveats in the documentation: https://pandas.pydata.org/pandas-docs/stable/user_guide/indexing.html#returning-a-view-versus-a-copy\n",
      "  self.metadata['augmented'] = False\n"
     ]
    },
    {
     "name": "stdout",
     "output_type": "stream",
     "text": [
      "Loading complete, some files (0) were not found: []\n",
      "30\n",
      "9\n",
      "0 Index([0, 1, 5, 8, 13, 15, 19, 27, 30, 8, 15, 5, 19, 0, 30], dtype='int64')\n",
      "2 Index([2, 6, 7, 10, 17, 26, 10, 17, 17, 17, 7, 2, 10, 6, 6], dtype='int64')\n",
      "1 Index([3, 4, 9, 11, 12, 14, 18, 20, 21, 22, 28, 29, 31, 33, 34], dtype='int64')\n",
      "3 Index([16, 23, 25, 32, 32, 25, 23, 23, 23, 23, 23, 16, 23, 32, 25], dtype='int64')\n",
      "4 Index([24, 24, 24, 24, 24, 24, 24, 24, 24, 24, 24, 24, 24, 24, 24], dtype='int64')\n"
     ]
    },
    {
     "name": "stderr",
     "output_type": "stream",
     "text": [
      "Loading train images: 75it [00:00, 123.63it/s]\n",
      "/Users/dov/Library/Mobile Documents/com~apple~CloudDocs/dovsync/Documenti Universita/Advanced Machine Learning/AML Project.nosync/melanoma-detection/dataloaders.py:40: SettingWithCopyWarning: \n",
      "A value is trying to be set on a copy of a slice from a DataFrame.\n",
      "Try using .loc[row_indexer,col_indexer] = value instead\n",
      "\n",
      "See the caveats in the documentation: https://pandas.pydata.org/pandas-docs/stable/user_guide/indexing.html#returning-a-view-versus-a-copy\n",
      "  self.metadata['label'] = labels_encoded\n",
      "/Users/dov/Library/Mobile Documents/com~apple~CloudDocs/dovsync/Documenti Universita/Advanced Machine Learning/AML Project.nosync/melanoma-detection/dataloaders.py:41: SettingWithCopyWarning: \n",
      "A value is trying to be set on a copy of a slice from a DataFrame.\n",
      "Try using .loc[row_indexer,col_indexer] = value instead\n",
      "\n",
      "See the caveats in the documentation: https://pandas.pydata.org/pandas-docs/stable/user_guide/indexing.html#returning-a-view-versus-a-copy\n",
      "  self.metadata['augmented'] = False\n"
     ]
    },
    {
     "name": "stdout",
     "output_type": "stream",
     "text": [
      "Loading complete, some files (0) were not found: []\n"
     ]
    },
    {
     "name": "stderr",
     "output_type": "stream",
     "text": [
      "Loading test images: 50it [00:00, 142.50it/s]"
     ]
    },
    {
     "name": "stdout",
     "output_type": "stream",
     "text": [
      "Loading complete, some files (0) were not found: []\n"
     ]
    },
    {
     "name": "stderr",
     "output_type": "stream",
     "text": [
      "\n"
     ]
    }
   ],
   "source": [
    "train_loader, val_loader, test_loader = create_dataloaders(limit=50)"
   ]
  },
  {
   "cell_type": "code",
   "execution_count": 3,
   "metadata": {},
   "outputs": [
    {
     "name": "stdout",
     "output_type": "stream",
     "text": [
      "2\n",
      "2\n"
     ]
    }
   ],
   "source": [
    "for tr_i, (tr_images, tr_labels, segmentations) in enumerate(train_loader):\n",
    "    tr_images = torch.mul(tr_images, segmentations)\n",
    "    print(f\"Images shape is {tr_images.shape}\")\n",
    "    cropped_images = crop_roi(tr_images)\n",
    "    plot_image_grid(tr_images, \"original_images\")\n",
    "    plot_image_grid(segmentations, \"segmentations\")\n",
    "    plot_image_grid(cropped_images, \"cropped_images\")\n",
    "    break\n",
    "for val_i, (val_images, val_labels, segmentations) in enumerate(val_loader):\n",
    "    val_images = torch.mul(val_images, segmentations)\n",
    "    print(f\"Images shape is {val_images.shape}\")\n",
    "    cropped_images = crop_roi(val_images)\n",
    "    plot_image_grid(val_images, \"original_images\")\n",
    "    plot_image_grid(segmentations, \"segmentations\")\n",
    "    plot_image_grid(cropped_images, \"cropped_images\")\n",
    "    break"
   ]
  }
 ],
 "metadata": {
  "kernelspec": {
   "display_name": "aml_project",
   "language": "python",
   "name": "python3"
  },
  "language_info": {
   "codemirror_mode": {
    "name": "ipython",
    "version": 3
   },
   "file_extension": ".py",
   "mimetype": "text/x-python",
   "name": "python",
   "nbconvert_exporter": "python",
   "pygments_lexer": "ipython3",
   "version": "3.10.11"
  }
 },
 "nbformat": 4,
 "nbformat_minor": 2
}

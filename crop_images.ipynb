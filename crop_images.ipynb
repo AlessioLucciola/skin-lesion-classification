{
 "cells": [
  {
   "cell_type": "code",
   "execution_count": 1,
   "metadata": {},
   "outputs": [],
   "source": [
    "from utils import crop_roi, plot_image_grid\n",
    "from dataloaders import create_dataloaders\n",
    "import numpy as np\n",
    "import torch"
   ]
  },
  {
   "cell_type": "code",
   "execution_count": 2,
   "metadata": {},
   "outputs": [
    {
     "name": "stdout",
     "output_type": "stream",
     "text": [
      "--Data Balance-- balance_data set to True. Training data will be balanced.\n",
      "--Data Balance-- The most common class is 1 with 5364 images.\n",
      "--Data Balance-- The second common class is 3 with 890 images with a difference of 4474 images from the most common class.\n",
      "--Data Balance (Undersampling)-- Keeping 5364 from 1 class..\n",
      "--Data Balance (Undersampling)-- 1 now has 5364 images\n",
      "-- Data Balance (Oversampling) -- Adding 4485 from 0 class..\n",
      "-- Data Balance (Oversampling) -- Adding 5102 from 2 class..\n",
      "-- Data Balance (Oversampling) -- Adding 4474 from 3 class..\n",
      "-- Data Balance (Oversampling) -- Adding 4953 from 4 class..\n",
      "-- Data Balance (Oversampling) -- Adding 5272 from 5 class..\n",
      "-- Data Balance (Oversampling) -- Adding 5250 from 6 class..\n"
     ]
    }
   ],
   "source": [
    "resnet_mean = torch.tensor([0.485, 0.456, 0.406])\n",
    "resnet_std =  torch.tensor([0.229, 0.224, 0.225])\n",
    "train_loader, val_loader, test_loader = create_dataloaders(normalize=True, limit=None, mean=resnet_mean, std=resnet_std)"
   ]
  },
  {
   "cell_type": "code",
   "execution_count": 3,
   "metadata": {},
   "outputs": [
    {
     "name": "stdout",
     "output_type": "stream",
     "text": [
      "Images shape is torch.Size([64, 3, 224, 224])\n"
     ]
    },
    {
     "ename": "TypeError",
     "evalue": "crop_roi() missing 1 required positional argument: 'size'",
     "output_type": "error",
     "traceback": [
      "\u001b[0;31m---------------------------------------------------------------------------\u001b[0m",
      "\u001b[0;31mTypeError\u001b[0m                                 Traceback (most recent call last)",
      "\u001b[1;32m/Users/dov/Library/Mobile Documents/com~apple~CloudDocs/dovsync/Documenti Universita/Advanced Machine Learning/AML Project.nosync/melanoma-detection/crop_images.ipynb Cell 3\u001b[0m line \u001b[0;36m4\n\u001b[1;32m      <a href='vscode-notebook-cell:/Users/dov/Library/Mobile%20Documents/com~apple~CloudDocs/dovsync/Documenti%20Universita/Advanced%20Machine%20Learning/AML%20Project.nosync/melanoma-detection/crop_images.ipynb#W2sZmlsZQ%3D%3D?line=1'>2</a>\u001b[0m tr_images \u001b[39m=\u001b[39m torch\u001b[39m.\u001b[39mmul(tr_images, segmentations)\n\u001b[1;32m      <a href='vscode-notebook-cell:/Users/dov/Library/Mobile%20Documents/com~apple~CloudDocs/dovsync/Documenti%20Universita/Advanced%20Machine%20Learning/AML%20Project.nosync/melanoma-detection/crop_images.ipynb#W2sZmlsZQ%3D%3D?line=2'>3</a>\u001b[0m \u001b[39mprint\u001b[39m(\u001b[39mf\u001b[39m\u001b[39m\"\u001b[39m\u001b[39mImages shape is \u001b[39m\u001b[39m{\u001b[39;00mtr_images\u001b[39m.\u001b[39mshape\u001b[39m}\u001b[39;00m\u001b[39m\"\u001b[39m)\n\u001b[0;32m----> <a href='vscode-notebook-cell:/Users/dov/Library/Mobile%20Documents/com~apple~CloudDocs/dovsync/Documenti%20Universita/Advanced%20Machine%20Learning/AML%20Project.nosync/melanoma-detection/crop_images.ipynb#W2sZmlsZQ%3D%3D?line=3'>4</a>\u001b[0m tr_images \u001b[39m=\u001b[39m crop_roi(tr_images)\n\u001b[1;32m      <a href='vscode-notebook-cell:/Users/dov/Library/Mobile%20Documents/com~apple~CloudDocs/dovsync/Documenti%20Universita/Advanced%20Machine%20Learning/AML%20Project.nosync/melanoma-detection/crop_images.ipynb#W2sZmlsZQ%3D%3D?line=4'>5</a>\u001b[0m plot_image_grid(tr_images, \u001b[39m\"\u001b[39m\u001b[39moriginal_images\u001b[39m\u001b[39m\"\u001b[39m)\n\u001b[1;32m      <a href='vscode-notebook-cell:/Users/dov/Library/Mobile%20Documents/com~apple~CloudDocs/dovsync/Documenti%20Universita/Advanced%20Machine%20Learning/AML%20Project.nosync/melanoma-detection/crop_images.ipynb#W2sZmlsZQ%3D%3D?line=5'>6</a>\u001b[0m plot_image_grid(segmentations, \u001b[39m\"\u001b[39m\u001b[39msegmentations\u001b[39m\u001b[39m\"\u001b[39m)\n",
      "\u001b[0;31mTypeError\u001b[0m: crop_roi() missing 1 required positional argument: 'size'"
     ]
    }
   ],
   "source": [
    "for tr_i, (tr_images, tr_labels, segmentations) in enumerate(train_loader):\n",
    "    tr_images = torch.mul(tr_images, segmentations)\n",
    "    print(f\"Images shape is {tr_images.shape}\")\n",
    "    tr_images = crop_roi(tr_images, size=(224,224))\n",
    "    plot_image_grid(tr_images, \"original_images\")\n",
    "    plot_image_grid(segmentations, \"segmentations\")\n",
    "    plot_image_grid(tr_images, \"cropped_images\")\n",
    "    break\n",
    "for val_i, (val_images, val_labels, segmentations) in enumerate(val_loader):\n",
    "    val_images = torch.mul(val_images, segmentations)\n",
    "    print(f\"Images shape is {val_images.shape}\")\n",
    "    val_images = crop_roi(val_images, size=(224,224))\n",
    "    plot_image_grid(val_images, \"original_images\")\n",
    "    plot_image_grid(segmentations, \"segmentations\")\n",
    "    plot_image_grid(val_images, \"cropped_images\")\n",
    "    break"
   ]
  }
 ],
 "metadata": {
  "kernelspec": {
   "display_name": "aml_project",
   "language": "python",
   "name": "python3"
  },
  "language_info": {
   "codemirror_mode": {
    "name": "ipython",
    "version": 3
   },
   "file_extension": ".py",
   "mimetype": "text/x-python",
   "name": "python",
   "nbconvert_exporter": "python",
   "pygments_lexer": "ipython3",
   "version": "3.10.11"
  }
 },
 "nbformat": 4,
 "nbformat_minor": 2
}

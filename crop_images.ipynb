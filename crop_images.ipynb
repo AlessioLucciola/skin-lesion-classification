{
 "cells": [
  {
   "cell_type": "markdown",
   "metadata": {},
   "source": [
    "Note: this notebook has to be on the root otherwise I have problems with paths and modules"
   ]
  },
  {
   "cell_type": "code",
   "execution_count": 1,
   "metadata": {},
   "outputs": [],
   "source": [
    "from utils.utils import plot_image_grid\n",
    "from dataloaders.SegmentedImagesDataLoader import SegmentedImagesDataLoader\n",
    "from dataloaders.ImagesAndSegmentationDataLoader import ImagesAndSegmentationDataLoader\n",
    "from dataloaders.DynamicSegmentationDataLoader import DynamicSegmentationDataLoader\n",
    "import torch"
   ]
  },
  {
   "cell_type": "code",
   "execution_count": 2,
   "metadata": {},
   "outputs": [
    {
     "name": "stdout",
     "output_type": "stream",
     "text": [
      "Self.dynamic_load in train_val_dataloders: True\n",
      "LOADED METADATA HAS LENGTH 7470\n",
      "Metadata before split has length 7470\n",
      "DF_TRAIN LENGTH: 5976\n",
      "DF_VAL LENGTH: 1494\n",
      "--Data Balance-- balance_data set to True. Training data will be balanced.\n",
      "--Data Balance-- The most common class is 0 with 4323 images.\n",
      "--Data Balance-- The second common class is 1 with 582 images with a difference of 3741 images from the most common class.\n",
      "--Data Balance (Undersampling)-- Keeping 2161 from 0 class..\n",
      "--Data Balance (Undersampling)-- 0 now has 2161 images\n",
      "-- Data Balance (Oversampling) -- Adding 1670 from 2 class..\n",
      "-- Data Balance (Oversampling) -- Adding 1899 from 4 class..\n",
      "-- Data Balance (Oversampling) -- Adding 1979 from 3 class..\n",
      "-- Data Balance (Oversampling) -- Adding 1579 from 1 class..\n",
      "-- Data Balance (Oversampling) -- Adding 2103 from 5 class..\n",
      "-- Data Balance (Oversampling) -- Adding 2083 from 6 class..\n"
     ]
    }
   ],
   "source": [
    "dataloder = SegmentedImagesDataLoader(dynamic_load=True)\n",
    "train_loader, val_loader = dataloder.get_train_val_dataloders()"
   ]
  },
  {
   "cell_type": "code",
   "execution_count": 3,
   "metadata": {},
   "outputs": [
    {
     "name": "stderr",
     "output_type": "stream",
     "text": [
      "Clipping input data to the valid range for imshow with RGB data ([0..1] for floats or [0..255] for integers).\n"
     ]
    }
   ],
   "source": [
    "#NOTE: this if-else has to be done if you don't know which dataloader will be used, otherwise you can hardcode (image, label) or (image, label, segmentation)\n",
    "for result in train_loader:\n",
    "    if len(result) == 2:\n",
    "        tr_images, tr_labels = result\n",
    "    else:\n",
    "        tr_images, tr_labels, segmentations = result\n",
    "    tr_images = tr_images.to(torch.float32)\n",
    "    plot_image_grid(tr_images, \"images\")\n",
    "    if \"segmentations\" in locals():\n",
    "        plot_image_grid(segmentations, \"segmentations\")\n",
    "    break\n",
    "for result in val_loader:\n",
    "    if len(result) == 2:\n",
    "        tr_images, tr_labels = result\n",
    "    else:\n",
    "        tr_images, tr_labels, segmentations = result\n",
    "    tr_images = tr_images.to(torch.float32)\n",
    "    plot_image_grid(tr_images, \"images\")\n",
    "    if \"segmentations\" in locals():\n",
    "        plot_image_grid(segmentations, \"segmentations\")\n",
    "    break"
   ]
  }
 ],
 "metadata": {
  "kernelspec": {
   "display_name": "aml_project",
   "language": "python",
   "name": "python3"
  },
  "language_info": {
   "codemirror_mode": {
    "name": "ipython",
    "version": 3
   },
   "file_extension": ".py",
   "mimetype": "text/x-python",
   "name": "python",
   "nbconvert_exporter": "python",
   "pygments_lexer": "ipython3",
   "version": "3.10.11"
  }
 },
 "nbformat": 4,
 "nbformat_minor": 2
}
